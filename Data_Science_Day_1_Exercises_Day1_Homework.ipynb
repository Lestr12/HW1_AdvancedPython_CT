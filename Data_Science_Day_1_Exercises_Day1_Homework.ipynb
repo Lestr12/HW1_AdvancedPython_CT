{
  "cells": [
    {
      "cell_type": "markdown",
      "metadata": {
        "id": "KdERlTpFuL5V"
      },
      "source": [
        "# Exercises"
      ]
    },
    {
      "cell_type": "markdown",
      "metadata": {
        "id": "to-gsrQyuL5Z"
      },
      "source": [
        "### #1 - Calculate the BMI (body mass index) on the two lists below using NDArrays..."
      ]
    },
    {
      "cell_type": "code",
      "execution_count": 4,
      "metadata": {
        "id": "iZlf9DzeuL5a"
      },
      "outputs": [
        {
          "name": "stdout",
          "output_type": "stream",
          "text": [
            "[16.86620458 17.87755102 18.82562984 19.71450617 20.54794521 21.32943755\n",
            " 22.06222222]\n"
          ]
        }
      ],
      "source": [
        "\n",
        "\n",
        "import numpy as np\n",
        "\n",
        "# Convert lists to numpy arrays\n",
        "height = np.array([69, 70, 71, 72, 73, 74, 75])\n",
        "weight = np.array([110, 120, 130, 140, 150, 160, 170])\n",
        "\n",
        "# Calculate BMI: weight / (height**2) * 730\n",
        "BMI = weight / (height ** 2) * 730\n",
        "\n",
        "# Print the BMI values\n",
        "print(BMI)\n"
      ]
    },
    {
      "cell_type": "markdown",
      "metadata": {
        "id": "RSsT8w8ouL5b"
      },
      "source": [
        "### #2 - Create a function that will take in two parameters and will create a random matrix based off of those parameters. Extra: Have additional parameters taken in that allow the user to choose the shape and data type of the matrix."
      ]
    },
    {
      "cell_type": "code",
      "execution_count": 5,
      "metadata": {
        "id": "ygFvj0aeuL5b"
      },
      "outputs": [
        {
          "name": "stdout",
          "output_type": "stream",
          "text": [
            "[[0 0 0 0]\n",
            " [0 0 0 0]\n",
            " [0 0 0 0]]\n",
            "[[2.42814431e-01 1.14294897e-01 6.83167729e-01 7.40312529e-01\n",
            "  4.40152314e-01]\n",
            " [9.29596057e-05 5.02409024e-01 9.05312202e-01 3.20678582e-01\n",
            "  8.60250231e-01]\n",
            " [2.85663604e-01 1.76489282e-01 2.64120285e-01 6.17828154e-02\n",
            "  3.83033648e-01]\n",
            " [3.14211983e-01 2.53687687e-01 1.51016620e-01 6.95644993e-01\n",
            "  9.27452348e-01]\n",
            " [2.69550642e-01 8.89679868e-01 1.34975900e-01 8.51908333e-01\n",
            "  4.27263992e-02]]\n"
          ]
        }
      ],
      "source": [
        "import numpy as np\n",
        "\n",
        "def generate_random_matrix(rows, cols, dtype=float, shape=None):\n",
        "    \"\"\"\n",
        "    Generate a random matrix.\n",
        "\n",
        "    Parameters:\n",
        "    - rows (int): Number of rows.\n",
        "    - cols (int): Number of columns.\n",
        "    - dtype (data-type): Desired data-type for the matrix. Default is float.\n",
        "    - shape (tuple): Desired shape of the matrix. If provided, rows and cols are ignored.\n",
        "\n",
        "    Returns:\n",
        "    - np.ndarray: Generated random matrix.\n",
        "    \"\"\"\n",
        "    if shape:\n",
        "        return np.random.rand(*shape).astype(dtype)\n",
        "    else:\n",
        "        return np.random.rand(rows, cols).astype(dtype)\n",
        "\n",
        "# Example usage:\n",
        "matrix = generate_random_matrix(3, 4, dtype=np.int32)\n",
        "print(matrix)\n",
        "\n",
        "# Using shape parameter\n",
        "matrix_with_shape = generate_random_matrix(3, 4, dtype=np.float64, shape=(5, 5))\n",
        "print(matrix_with_shape)\n",
        "\n"
      ]
    },
    {
      "cell_type": "markdown",
      "metadata": {
        "id": "e5mP1UX9uL5c"
      },
      "source": [
        "### #3 - Extra: Open and load the data in the two text files that have the Boston Red Sox hitting data for the past seasons. Compare the difference in the two years by putting the data into an NDArray and running a differencial operation on it. The column to look for will be SLG.\n",
        "\n",
        "Your output should display which year (either 2017 or 2018) was a better year based on SLG"
      ]
    },
    {
      "cell_type": "code",
      "execution_count": 11,
      "metadata": {
        "id": "iAExC-SjuL5c"
      },
      "outputs": [
        {
          "name": "stdout",
          "output_type": "stream",
          "text": [
            "Current working directory: c:\\Users\\Litzy\\Downloads\n",
            "Average SLG in 2017: 0.39334782608695656\n",
            "Average SLG in 2018: 0.38750000000000007\n",
            "The better year based on SLG is: 2017\n"
          ]
        }
      ],
      "source": [
        "import csv\n",
        "import numpy as np\n",
        "import os\n",
        "\n",
        "def load_slg_data(filename):\n",
        "    \"\"\"\n",
        "    Load SLG data from a CSV file.\n",
        "\n",
        "    Parameters:\n",
        "    - filename (str): The path to the CSV file.\n",
        "\n",
        "    Returns:\n",
        "    - np.ndarray: An array of SLG values.\n",
        "    \"\"\"\n",
        "    slg_values = []\n",
        "    try:\n",
        "        with open(filename, 'r') as file:\n",
        "            reader = csv.DictReader(file)\n",
        "            for row in reader:\n",
        "                try:\n",
        "                    slg_values.append(float(row['SLG']))\n",
        "                except ValueError:\n",
        "                    print(f\"Error: Invalid SLG value '{row['SLG']}' in file '{filename}'.\")\n",
        "                    return None\n",
        "    except FileNotFoundError:\n",
        "        print(f\"Error: The file '{filename}' was not found.\")\n",
        "        return None\n",
        "    except KeyError:\n",
        "        print(f\"Error: The file '{filename}' does not contain a 'SLG' column.\")\n",
        "        return None\n",
        "    return np.array(slg_values)\n",
        "\n",
        "\n",
        "print(\"Current working directory:\", os.getcwd())\n",
        "\n",
        "path_2017 = 'redsox_2017_hitting.txt'\n",
        "path_2018 = 'redsox_2018_hitting.txt'\n",
        "\n",
        "\n",
        "slg_2017 = load_slg_data(path_2017)\n",
        "slg_2018 = load_slg_data(path_2018)\n",
        "\n",
        "\n",
        "if slg_2017 is not None and slg_2018 is not None:\n",
        "    \n",
        "    avg_slg_2017 = np.mean(slg_2017)\n",
        "    avg_slg_2018 = np.mean(slg_2018)\n",
        "\n",
        "    # Determine which year was better based on SLG\n",
        "    better_year = \"2018\" if avg_slg_2018 > avg_slg_2017 else \"2017\"\n",
        "\n",
        "    print(f\"Average SLG in 2017: {avg_slg_2017}\")\n",
        "    print(f\"Average SLG in 2018: {avg_slg_2018}\")\n",
        "    print(f\"The better year based on SLG is: {better_year}\")\n",
        "else:\n",
        "    print(\"Data could not be loaded for comparison.\")\n"
      ]
    },
    {
      "cell_type": "code",
      "execution_count": null,
      "metadata": {
        "id": "P8Rwr8lmuL5e"
      },
      "outputs": [],
      "source": [
        "FIELDS = ['Rk', 'Pos', 'Name', 'Age', 'G', 'PA', 'AB', 'R', 'H', '2B', '3B', 'HR', 'RBI', 'SB', 'CS', \n",
        "          'BB', 'SO', 'BA', 'OBP', 'SLG', 'OPS', 'OPS+', 'TB', 'GDP', 'HBP', 'SH', 'SF', 'IBB']\n",
        "\n",
        "DATATYPES = [('rk', 'i'), ('pos', '|S25'), ('name', '|S25'), ('age', 'i'), ('g', 'i'), ('pa', 'i'), ('ab', 'i'),\n",
        "                ('r', 'i'), ('h', 'i'), ('2b', 'i'), ('3b', 'i'), ('hr', 'i'), ('rbi', 'i'), ('sb', 'i'), ('cs', 'i'),\n",
        "                ('bb', 'i'), ('so', 'i'), ('ba', 'f'), ('obp', 'f'), ('slg', 'f'), ('ops', 'f'), ('opsp', 'i'),\n",
        "                ('tb', 'i'), ('gdp', 'i'), ('hbp', 'i'), ('sh', 'i'), ('sf', 'i'), ('ibb', 'i')]\n",
        "\n",
        "#Use this function to actually open the data inside of a NDArray\n",
        "\n",
        "\n"
      ]
    }
  ],
  "metadata": {
    "colab": {
      "name": "Copy of Data_Science_Day_1_Exercises-Day1- Homework.ipynb",
      "provenance": []
    },
    "kernelspec": {
      "display_name": "Python 3",
      "language": "python",
      "name": "python3"
    },
    "language_info": {
      "codemirror_mode": {
        "name": "ipython",
        "version": 3
      },
      "file_extension": ".py",
      "mimetype": "text/x-python",
      "name": "python",
      "nbconvert_exporter": "python",
      "pygments_lexer": "ipython3",
      "version": "3.10.6"
    }
  },
  "nbformat": 4,
  "nbformat_minor": 0
}
